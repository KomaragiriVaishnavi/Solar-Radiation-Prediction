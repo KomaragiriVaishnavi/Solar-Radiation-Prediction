{
 "cells": [
  {
   "cell_type": "markdown",
   "metadata": {},
   "source": [
    "Collect Meteorological Data"
   ]
  },
  {
   "cell_type": "code",
   "execution_count": 35,
   "metadata": {},
   "outputs": [],
   "source": [
    "import os\n",
    "import numpy as np\n",
    "import pandas as pd\n",
    "from sklearn.model_selection import TimeSeriesSplit\n",
    "from sklearn.preprocessing import StandardScaler\n",
    "\n",
    "df = pd.read_excel(\"Cleaned_Solar_Data_With_DateTime.xlsx\")\n",
    "df.columns = df.columns.str.strip().str.replace(r\"\\s+\", \" \", regex=True)\n",
    "\n",
    "target_column = \"Solar Radiation(W/m2)\"\n",
    "X = df.drop(columns=[target_column, \"Date and Time\"], errors='ignore')\n",
    "y = df[target_column]\n",
    "\n",
    "tscv = TimeSeriesSplit(n_splits=5)\n",
    "for train_index, test_index in tscv.split(X):\n",
    "    X_train, X_test = X.iloc[train_index], X.iloc[test_index]\n",
    "    y_train, y_test = y.iloc[train_index], y.iloc[test_index]\n",
    "\n",
    "scaler = StandardScaler()\n",
    "X_train_scaled = scaler.fit_transform(X_train)\n",
    "X_test_scaled = scaler.transform(X_test)\n",
    "\n"
   ]
  },
  {
   "cell_type": "markdown",
   "metadata": {},
   "source": [
    "Preprocess Data (Handle Missing Values, Scaling)"
   ]
  },
  {
   "cell_type": "code",
   "execution_count": 36,
   "metadata": {},
   "outputs": [],
   "source": [
    "from sklearn.model_selection import TimeSeriesSplit\n",
    "from sklearn.preprocessing import StandardScaler\n",
    "\n",
    "# Define target variable and features\n",
    "target_column = \"Solar Radiation(W/m2)\"\n",
    "X = df.drop(columns=[target_column, \"Date and Time\"], errors='ignore')\n",
    "y = df[target_column]\n",
    "\n",
    "# Time-based split instead of random split\n",
    "tscv = TimeSeriesSplit(n_splits=5)\n",
    "for train_index, test_index in tscv.split(X):\n",
    "    X_train, X_test = X.iloc[train_index], X.iloc[test_index]\n",
    "    y_train, y_test = y.iloc[train_index], y.iloc[test_index]\n",
    "\n",
    "# Normalize features\n",
    "scaler = StandardScaler()\n",
    "X_train_scaled = scaler.fit_transform(X_train)\n",
    "X_test_scaled = scaler.transform(X_test)\n"
   ]
  },
  {
   "cell_type": "markdown",
   "metadata": {},
   "source": [
    "Train Machine Learning Model"
   ]
  },
  {
   "cell_type": "markdown",
   "metadata": {},
   "source": [
    " Train Linear Regression Model"
   ]
  },
  {
   "cell_type": "code",
   "execution_count": 37,
   "metadata": {},
   "outputs": [],
   "source": [
    "from sklearn.linear_model import LinearRegression\n",
    "import numpy as np\n",
    "\n",
    "\n",
    "# Train Linear Regression model\n",
    "lr_model = LinearRegression()\n",
    "lr_model.fit(X_train_scaled, y_train)\n",
    "\n",
    "# Make predictions\n",
    "lr_predictions = np.maximum(0, lr_model.predict(X_test_scaled))\n"
   ]
  },
  {
   "cell_type": "markdown",
   "metadata": {},
   "source": [
    "Train Random Forest Model"
   ]
  },
  {
   "cell_type": "code",
   "execution_count": 38,
   "metadata": {},
   "outputs": [],
   "source": [
    "from sklearn.ensemble import RandomForestRegressor\n",
    "\n",
    "# Train Random Forest model\n",
    "rf_model = RandomForestRegressor(n_estimators=200, max_depth=15, random_state=42, n_jobs=-1)\n",
    "rf_model.fit(X_train, y_train)\n",
    "\n",
    "# Make predictions\n",
    "rf_predictions = np.maximum(0, rf_model.predict(X_test))\n"
   ]
  },
  {
   "cell_type": "markdown",
   "metadata": {},
   "source": [
    "Train Deep Learning (ANN) Model"
   ]
  },
  {
   "cell_type": "code",
   "execution_count": 39,
   "metadata": {},
   "outputs": [
    {
     "name": "stdout",
     "output_type": "stream",
     "text": [
      "\u001b[1m27/27\u001b[0m \u001b[32m━━━━━━━━━━━━━━━━━━━━\u001b[0m\u001b[37m\u001b[0m \u001b[1m0s\u001b[0m 1ms/step \n"
     ]
    }
   ],
   "source": [
    "import tensorflow as tf\n",
    "from tensorflow import keras\n",
    "from tensorflow.keras.models import Sequential\n",
    "from tensorflow.keras.layers import Dense, Input, Dropout\n",
    "\n",
    "# Suppress TensorFlow logs\n",
    "os.environ['TF_CPP_MIN_LOG_LEVEL'] = '3'\n",
    "tf.get_logger().setLevel('ERROR')\n",
    "\n",
    "# Define ANN model\n",
    "ann_model = Sequential([\n",
    "    Input(shape=(X_train.shape[1],)),\n",
    "    Dense(64, activation='relu'),\n",
    "    Dropout(0.2),\n",
    "    Dense(32, activation='relu'),\n",
    "    Dropout(0.2),\n",
    "    Dense(1)\n",
    "])\n",
    "\n",
    "# Compile and train ANN model\n",
    "ann_model.compile(optimizer=keras.optimizers.Adam(learning_rate=0.001), loss='mse')\n",
    "ann_model.fit(X_train_scaled, y_train, epochs=50, batch_size=32, verbose=0)\n",
    "\n",
    "# Make predictions\n",
    "ann_predictions = np.maximum(0, ann_model.predict(X_test_scaled).flatten())\n"
   ]
  },
  {
   "cell_type": "markdown",
   "metadata": {},
   "source": [
    "Train LSTM Model"
   ]
  },
  {
   "cell_type": "code",
   "execution_count": null,
   "metadata": {},
   "outputs": [
    {
     "name": "stdout",
     "output_type": "stream",
     "text": [
      "\u001b[1m27/27\u001b[0m \u001b[32m━━━━━━━━━━━━━━━━━━━━\u001b[0m\u001b[37m\u001b[0m \u001b[1m0s\u001b[0m 3ms/step\n"
     ]
    }
   ],
   "source": [
    "from tensorflow.keras.layers import LSTM\n",
    "\n",
    "# Reshape data for LSTM\n",
    "X_train_lstm = X_train_scaled.reshape(X_train_scaled.shape[0], X_train_scaled.shape[1], 1)\n",
    "X_test_lstm = X_test_scaled.reshape(X_test_scaled.shape[0], X_test_scaled.shape[1], 1)\n",
    "\n",
    "# Define LSTM model\n",
    "lstm_model = Sequential([\n",
    "    Input(shape=(X_train.shape[1], 1)),\n",
    "    LSTM(50, activation='relu', return_sequences=True),\n",
    "    LSTM(20, activation='relu'),\n",
    "    Dense(1)\n",
    "])\n",
    "\n",
    "# Compile and train LSTM model\n",
    "lstm_model.compile(optimizer='adam', loss='mse')\n",
    "lstm_model.fit(X_train_lstm, y_train, epochs=50, batch_size=32, verbose=0)\n",
    "\n",
    "# Make predictions\n",
    "lstm_predictions = np.maximum(0, lstm_model.predict(X_test_lstm).flatten())\n",
    "\n",
    "\n",
    "\n",
    "\n",
    "\n",
    "\n"
   ]
  },
  {
   "cell_type": "markdown",
   "metadata": {},
   "source": [
    "Evaluate Model Performance"
   ]
  },
  {
   "cell_type": "code",
   "execution_count": 30,
   "metadata": {},
   "outputs": [
    {
     "name": "stdout",
     "output_type": "stream",
     "text": [
      "Linear Regression Model:\n",
      "RMSE: 94.9190\n",
      "R² Score: 0.8978\n",
      "MAE: 51.2009\n",
      "\n",
      "Random Forest Model:\n",
      "RMSE: 94.0531\n",
      "R² Score: 0.8997\n",
      "MAE: 45.1282\n",
      "\n",
      "Deep Learning (ANN) Model:\n",
      "RMSE: 89.4119\n",
      "R² Score: 0.9093\n",
      "MAE: 48.8010\n",
      "\n",
      "LSTM Model:\n",
      "RMSE: 106.9919\n",
      "R² Score: 0.8702\n",
      "MAE: 60.1701\n",
      "\n"
     ]
    }
   ],
   "source": [
    "from sklearn.metrics import mean_squared_error, r2_score, mean_absolute_error\n",
    "\n",
    "# Function to evaluate models\n",
    "def evaluate_model(name, y_true, predictions):\n",
    "    mse = mean_squared_error(y_true, predictions)\n",
    "    rmse = np.sqrt(mse)\n",
    "    r2 = r2_score(y_true, predictions)\n",
    "    mae = mean_absolute_error(y_true, predictions)\n",
    "    print(f\"{name} Model:\\nRMSE: {rmse:.4f}\\nR² Score: {r2:.4f}\\nMAE: {mae:.4f}\\n\")\n",
    "    return rmse, r2, mae\n",
    "\n",
    "# Evaluate all models\n",
    "evaluation_results = {\n",
    "    \"Linear Regression\": evaluate_model(\"Linear Regression\", y_test, lr_predictions),\n",
    "    \"Random Forest\": evaluate_model(\"Random Forest\", y_test, rf_predictions),\n",
    "    \"Deep Learning (ANN)\": evaluate_model(\"Deep Learning (ANN)\", y_test, ann_predictions),\n",
    "    \"LSTM\": evaluate_model(\"LSTM\", y_test, lstm_predictions)\n",
    "}\n"
   ]
  },
  {
   "cell_type": "markdown",
   "metadata": {},
   "source": [
    " Provide Real-Time Solar Radiation Predictions"
   ]
  },
  {
   "cell_type": "code",
   "execution_count": 31,
   "metadata": {},
   "outputs": [],
   "source": [
    "def predict_solar_radiation(input_values):\n",
    "    input_array = np.array(input_values).reshape(1, -1)\n",
    "    input_scaled = scaler.transform(input_array)\n",
    "    input_lstm = input_scaled.reshape(input_scaled.shape[0], input_scaled.shape[1], 1)\n",
    "    predictions = {\n",
    "        \"Linear Regression\": max(0, lr_model.predict(input_scaled)[0]),\n",
    "        \"Random Forest\": max(0, rf_model.predict(input_array)[0]),\n",
    "        \"Deep Learning (ANN)\": max(0, ann_model.predict(input_scaled).flatten()[0]),\n",
    "        \"LSTM\": max(0, lstm_model.predict(input_lstm).flatten()[0])\n",
    "    }\n",
    "    return predictions\n"
   ]
  },
  {
   "cell_type": "markdown",
   "metadata": {},
   "source": [
    "Optimize Energy Management (Model Comparison & Visualization)"
   ]
  },
  {
   "cell_type": "code",
   "execution_count": 32,
   "metadata": {},
   "outputs": [
    {
     "data": {
      "image/png": "[encoded data removed]",
      "text/plain": [
       "<Figure size 1500x500 with 3 Axes>"
      ]
     },
     "metadata": {},
     "output_type": "display_data"
    }
   ],
   "source": [
    "import matplotlib.pyplot as plt\n",
    "import seaborn as sns\n",
    "\n",
    "# Define metrics for comparison\n",
    "metrics = [\"RMSE\", \"R² Score\", \"MAE\"]\n",
    "values = {metric: [evaluation_results[model][i] for model in evaluation_results] for i, metric in enumerate(metrics)}\n",
    "\n",
    "# Plot model comparison\n",
    "fig, axes = plt.subplots(1, 3, figsize=(15, 5))\n",
    "model_names = list(evaluation_results.keys())\n",
    "\n",
    "for i, metric in enumerate(metrics):\n",
    "    sns.barplot(x=model_names, y=values[metric], ax=axes[i])\n",
    "    axes[i].set_title(f\"Model Comparison - {metric}\")\n",
    "    axes[i].set_ylabel(metric)\n",
    "    axes[i].set_xticks(range(len(model_names)))  # FIXED: Set explicit tick positions\n",
    "    axes[i].set_xticklabels(model_names, rotation=15)  # FIXED: Properly assign tick labels\n",
    "\n",
    "plt.tight_layout()\n",
    "plt.show()\n"
   ]
  },
  {
   "cell_type": "markdown",
   "metadata": {},
   "source": [
    " Get User Input for Prediction"
   ]
  },
  {
   "cell_type": "code",
   "execution_count": 41,
   "metadata": {},
   "outputs": [
    {
     "name": "stdout",
     "output_type": "stream",
     "text": [
      "\u001b[1m1/1\u001b[0m \u001b[32m━━━━━━━━━━━━━━━━━━━━\u001b[0m\u001b[37m\u001b[0m \u001b[1m0s\u001b[0m 45ms/step\n"
     ]
    },
    {
     "name": "stderr",
     "output_type": "stream",
     "text": [
      "c:\\Users\\ippil\\AppData\\Local\\Programs\\Python\\Python312\\Lib\\site-packages\\sklearn\\utils\\validation.py:2739: UserWarning: X does not have valid feature names, but StandardScaler was fitted with feature names\n",
      "  warnings.warn(\n",
      "c:\\Users\\ippil\\AppData\\Local\\Programs\\Python\\Python312\\Lib\\site-packages\\sklearn\\utils\\validation.py:2739: UserWarning: X does not have valid feature names, but RandomForestRegressor was fitted with feature names\n",
      "  warnings.warn(\n"
     ]
    },
    {
     "name": "stdout",
     "output_type": "stream",
     "text": [
      "\u001b[1m1/1\u001b[0m \u001b[32m━━━━━━━━━━━━━━━━━━━━\u001b[0m\u001b[37m\u001b[0m \u001b[1m0s\u001b[0m 203ms/step\n",
      "Predicted Solar Radiation:\n",
      "Linear Regression: 719.5770\n",
      "Random Forest: 794.1900\n",
      "Deep Learning (ANN): 723.8625\n",
      "LSTM: 683.2844\n"
     ]
    }
   ],
   "source": [
    "# Get user input dynamically\n",
    "user_input = [float(input(f\"{feature}: \")) for feature in X.columns]\n",
    "\n",
    "# Predict solar radiation\n",
    "predicted_values = predict_solar_radiation(user_input)\n",
    "\n",
    "# Display results\n",
    "print(\"Predicted Solar Radiation:\")\n",
    "for model, prediction in predicted_values.items():\n",
    "    print(f\"{model}: {prediction:.4f}\")\n"
   ]
  }
 ],
 "metadata": {
  "kernelspec": {
   "display_name": "Python 3",
   "language": "python",
   "name": "python3"
  },
  "language_info": {
   "codemirror_mode": {
    "name": "ipython",
    "version": 3
   },
   "file_extension": ".py",
   "mimetype": "text/x-python",
   "name": "python",
   "nbconvert_exporter": "python",
   "pygments_lexer": "ipython3",
   "version": "3.12.4"
  }
 },
 "nbformat": 4,
 "nbformat_minor": 2
}
